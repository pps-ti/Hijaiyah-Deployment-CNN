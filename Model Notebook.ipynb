{
 "cells": [
  {
   "cell_type": "code",
   "execution_count": 4,
   "metadata": {},
   "outputs": [
    {
     "name": "stdout",
     "output_type": "stream",
     "text": [
      "TensorFlow Version: 2.3.1\n",
      "Default GPU Device: /device:GPU:0\n"
     ]
    }
   ],
   "source": [
    "# Membuat pengecekan tensorflow\n",
    "from distutils.version import LooseVersion\n",
    "import warnings\n",
    "import tensorflow as tf\n",
    "\n",
    "assert LooseVersion(tf.__version__) >= LooseVersion('1.0')\n",
    "print(\"TensorFlow Version: {}\".format(tf.__version__))\n",
    "\n",
    "if not tf.test.gpu_device_name():\n",
    "    warnings.warn(\"No GPU Found: Please ensure you have installed TensorFlow corrently\")\n",
    "else:\n",
    "    print(\"Default GPU Device: {}\".format(tf.test.gpu_device_name()))"
   ]
  },
  {
   "cell_type": "markdown",
   "metadata": {},
   "source": [
    "# Import Libraries"
   ]
  },
  {
   "cell_type": "code",
   "execution_count": 5,
   "metadata": {},
   "outputs": [
    {
     "name": "stderr",
     "output_type": "stream",
     "text": [
      "Using TensorFlow backend.\n"
     ]
    }
   ],
   "source": [
    "# Arsitektur CNN\n",
    "from tensorflow.keras import layers, models, callbacks\n",
    "\n",
    "# Generator dan Praproses Data\n",
    "from tensorflow.keras.preprocessing.image import ImageDataGenerator, load_img, img_to_array\n",
    "\n",
    "# Fungsi Loss\n",
    "from keras.metrics import sparse_categorical_crossentropy\n",
    "\n",
    "# Visualisasi\n",
    "import matplotlib.pyplot as plt\n",
    "import numpy as np\n",
    "\n",
    "# Confusion matrix\n",
    "from sklearn.metrics import classification_report, confusion_matrix\n",
    "\n",
    "# Pengaturan Direktori\n",
    "import os\n",
    "\n",
    "# Log\n",
    "import pandas as pd"
   ]
  },
  {
   "cell_type": "markdown",
   "metadata": {},
   "source": [
    "# Pra-pelatihan"
   ]
  },
  {
   "cell_type": "code",
   "execution_count": 6,
   "metadata": {},
   "outputs": [],
   "source": [
    "# Membuat nama kelas berdasarkan urutan folder\n",
    "class_names = [ 'ain', 'alif', 'ba', 'dal', 'dhod', 'dzal',\n",
    "                'dzho', 'fa', 'ghoin', 'ha', 'ha\\'', 'hamzah', 'jim',\n",
    "                'kaf', 'kho', 'lam', 'lamalif', 'mim', 'nun', 'qof',\n",
    "                'ro', 'shod', 'sin', 'syin', 'ta', 'tho', 'tsa', \n",
    "                'wawu', 'ya', 'zain']"
   ]
  },
  {
   "cell_type": "markdown",
   "metadata": {},
   "source": [
    "## Arsitektur CNN"
   ]
  },
  {
   "cell_type": "markdown",
   "metadata": {},
   "source": [
    "![arsitektur](arsitektur_baru.png)"
   ]
  },
  {
   "cell_type": "code",
   "execution_count": 4,
   "metadata": {},
   "outputs": [
    {
     "name": "stdout",
     "output_type": "stream",
     "text": [
      "Model: \"sequential\"\n",
      "_________________________________________________________________\n",
      "Layer (type)                 Output Shape              Param #   \n",
      "=================================================================\n",
      "conv2d (Conv2D)              (None, 148, 148, 32)      896       \n",
      "_________________________________________________________________\n",
      "max_pooling2d (MaxPooling2D) (None, 74, 74, 32)        0         \n",
      "_________________________________________________________________\n",
      "conv2d_1 (Conv2D)            (None, 72, 72, 64)        18496     \n",
      "_________________________________________________________________\n",
      "max_pooling2d_1 (MaxPooling2 (None, 36, 36, 64)        0         \n",
      "_________________________________________________________________\n",
      "conv2d_2 (Conv2D)            (None, 34, 34, 128)       73856     \n",
      "_________________________________________________________________\n",
      "max_pooling2d_2 (MaxPooling2 (None, 17, 17, 128)       0         \n",
      "_________________________________________________________________\n",
      "conv2d_3 (Conv2D)            (None, 15, 15, 256)       295168    \n",
      "_________________________________________________________________\n",
      "max_pooling2d_3 (MaxPooling2 (None, 7, 7, 256)         0         \n",
      "_________________________________________________________________\n",
      "flatten (Flatten)            (None, 12544)             0         \n",
      "_________________________________________________________________\n",
      "dense (Dense)                (None, 512)               6423040   \n",
      "_________________________________________________________________\n",
      "dense_1 (Dense)              (None, 30)                15390     \n",
      "=================================================================\n",
      "Total params: 6,826,846\n",
      "Trainable params: 6,826,846\n",
      "Non-trainable params: 0\n",
      "_________________________________________________________________\n"
     ]
    }
   ],
   "source": [
    "# Membuat arsitektur CNN\n",
    "model = models.Sequential()\n",
    "model.add(layers.Conv2D(32, (3, 3), padding='valid', activation='relu', input_shape=(150, 150, 3)))\n",
    "model.add(layers.MaxPooling2D((2, 2), strides=(2,2), padding='valid'))\n",
    "model.add(layers.Conv2D(64, (3, 3), padding='valid', activation='relu'))\n",
    "model.add(layers.MaxPooling2D((2, 2), strides=(2,2), padding='valid'))\n",
    "model.add(layers.Conv2D(128, (3, 3), padding='valid', activation='relu'))\n",
    "model.add(layers.MaxPooling2D((2, 2), strides=(2,2), padding='valid'))\n",
    "model.add(layers.Conv2D(256, (3, 3), padding='valid', activation='relu'))\n",
    "model.add(layers.MaxPooling2D((2, 2), strides=(2,2), padding='valid'))\n",
    "model.add(layers.Flatten())\n",
    "model.add(layers.Dense(512, activation='relu'))\n",
    "model.add(layers.Dense(30, activation='softmax'))\n",
    "\n",
    "# Melihat detail arsitektur\n",
    "model.summary()"
   ]
  },
  {
   "cell_type": "markdown",
   "metadata": {},
   "source": [
    "## Dataset | Praproses dan Augmentasi"
   ]
  },
  {
   "cell_type": "code",
   "execution_count": 5,
   "metadata": {},
   "outputs": [
    {
     "name": "stdout",
     "output_type": "stream",
     "text": [
      "Found 1680 images belonging to 30 classes.\n",
      "Found 420 images belonging to 30 classes.\n"
     ]
    }
   ],
   "source": [
    "# Pengaturan direktori\n",
    "PATH = 'dataset'\n",
    "VAL_DATA = 'test_mixed'\n",
    "TOTAL_TRAIN_DATA=1680\n",
    "TRAIN_DIR = os.path.join(PATH, 'train')\n",
    "VALIDATION_DIR = os.path.join(PATH, VAL_DATA)\n",
    "\n",
    "BATCH_SIZE = 56\n",
    "IMG_SIZE = (150, 150)\n",
    "\n",
    "# Membuat generator pelatihan\n",
    "gen = ImageDataGenerator( \n",
    "      rescale=1./255,\n",
    "      rotation_range=40,\n",
    "      width_shift_range=0.2,\n",
    "      shear_range=0.2,\n",
    "      height_shift_range=0.2,\n",
    "      zoom_range=0.2,\n",
    "      horizontal_flip=True,\n",
    "      fill_mode='nearest'\n",
    "\n",
    ")\n",
    "\n",
    "train_generator = train_datagen.flow_from_directory(TRAIN_DIR,\n",
    "                                                    batch_size=BATCH_SIZE,\n",
    "                                                    class_mode='sparse',\n",
    "                                                    target_size=IMG_SIZE,\n",
    "                                                    color_mode='rgb'\n",
    "                                                   )\n",
    "\n",
    "validation_datagen = ImageDataGenerator( rescale = 1./255 )\n",
    "\n",
    "# Membuat generator validasi\n",
    "validation_generator = validation_datagen.flow_from_directory(VALIDATION_DIR,\n",
    "                                                    batch_size=BATCH_SIZE,\n",
    "                                                    class_mode='sparse',\n",
    "                                                    target_size=IMG_SIZE,\n",
    "                                                    color_mode='rgb'\n",
    "                                                    )"
   ]
  },
  {
   "cell_type": "markdown",
   "metadata": {},
   "source": [
    "![Augmentasi Data](augmentasi.png)"
   ]
  },
  {
   "cell_type": "markdown",
   "metadata": {},
   "source": [
    "## Pelatihan"
   ]
  },
  {
   "cell_type": "code",
   "execution_count": 7,
   "metadata": {},
   "outputs": [
    {
     "name": "stdout",
     "output_type": "stream",
     "text": [
      "Epoch 1/105\n",
      "30/30 [==============================] - 20s 673ms/step - loss: 3.4043 - accuracy: 0.0292 - val_loss: 3.3587 - val_accuracy: 0.0510\n",
      "Epoch 2/105\n",
      "30/30 [==============================] - 21s 703ms/step - loss: 3.2761 - accuracy: 0.0673 - val_loss: 2.8680 - val_accuracy: 0.1811\n",
      "Epoch 3/105\n",
      "30/30 [==============================] - 24s 799ms/step - loss: 3.1391 - accuracy: 0.1113 - val_loss: 2.6539 - val_accuracy: 0.2321\n",
      "Epoch 4/105\n",
      "30/30 [==============================] - 22s 727ms/step - loss: 2.9396 - accuracy: 0.1393 - val_loss: 2.4919 - val_accuracy: 0.2474\n",
      "Epoch 5/105\n",
      "30/30 [==============================] - 23s 775ms/step - loss: 2.7683 - accuracy: 0.1881 - val_loss: 2.3434 - val_accuracy: 0.2526\n",
      "Epoch 6/105\n",
      "30/30 [==============================] - 22s 719ms/step - loss: 2.6239 - accuracy: 0.2024 - val_loss: 2.4788 - val_accuracy: 0.2092\n",
      "Epoch 7/105\n",
      "30/30 [==============================] - 22s 748ms/step - loss: 2.4177 - accuracy: 0.2286 - val_loss: 2.2599 - val_accuracy: 0.2219\n",
      "Epoch 8/105\n",
      "30/30 [==============================] - 20s 681ms/step - loss: 2.2572 - accuracy: 0.2619 - val_loss: 1.9379 - val_accuracy: 0.3138\n",
      "Epoch 9/105\n",
      "30/30 [==============================] - 22s 748ms/step - loss: 1.9788 - accuracy: 0.3423 - val_loss: 2.0076 - val_accuracy: 0.3495\n",
      "Epoch 10/105\n",
      "30/30 [==============================] - 21s 714ms/step - loss: 1.8637 - accuracy: 0.3732 - val_loss: 1.4620 - val_accuracy: 0.4745\n",
      "Epoch 11/105\n",
      "30/30 [==============================] - 21s 699ms/step - loss: 1.6516 - accuracy: 0.4071 - val_loss: 3.0298 - val_accuracy: 0.2628\n",
      "Epoch 12/105\n",
      "30/30 [==============================] - 21s 715ms/step - loss: 1.5375 - accuracy: 0.4375 - val_loss: 2.0900 - val_accuracy: 0.3673\n",
      "Epoch 13/105\n",
      "30/30 [==============================] - 21s 687ms/step - loss: 1.4415 - accuracy: 0.4732 - val_loss: 1.8965 - val_accuracy: 0.3852\n",
      "Epoch 14/105\n",
      "30/30 [==============================] - 22s 741ms/step - loss: 1.3796 - accuracy: 0.4726 - val_loss: 2.3671 - val_accuracy: 0.2679\n",
      "Epoch 15/105\n",
      "30/30 [==============================] - 21s 714ms/step - loss: 1.2284 - accuracy: 0.5125 - val_loss: 1.4731 - val_accuracy: 0.4362\n",
      "Epoch 16/105\n",
      "30/30 [==============================] - 21s 714ms/step - loss: 1.2623 - accuracy: 0.5065 - val_loss: 2.1511 - val_accuracy: 0.3189\n",
      "Epoch 17/105\n",
      "30/30 [==============================] - 25s 823ms/step - loss: 1.1833 - accuracy: 0.5161 - val_loss: 1.3140 - val_accuracy: 0.4923\n",
      "Epoch 18/105\n",
      "30/30 [==============================] - 24s 806ms/step - loss: 1.1542 - accuracy: 0.5315 - val_loss: 1.6622 - val_accuracy: 0.4107\n",
      "Epoch 19/105\n",
      "30/30 [==============================] - 25s 848ms/step - loss: 1.0996 - accuracy: 0.5583 - val_loss: 1.8742 - val_accuracy: 0.4260\n",
      "Epoch 20/105\n",
      "30/30 [==============================] - 25s 847ms/step - loss: 1.1178 - accuracy: 0.5458 - val_loss: 1.0338 - val_accuracy: 0.5561\n",
      "Epoch 21/105\n",
      "30/30 [==============================] - 22s 740ms/step - loss: 1.0643 - accuracy: 0.5506 - val_loss: 1.4534 - val_accuracy: 0.4668\n",
      "Epoch 22/105\n",
      "30/30 [==============================] - 27s 893ms/step - loss: 1.0225 - accuracy: 0.5720 - val_loss: 0.8924 - val_accuracy: 0.5918\n",
      "Epoch 23/105\n",
      "30/30 [==============================] - 26s 852ms/step - loss: 0.9593 - accuracy: 0.5875 - val_loss: 0.8174 - val_accuracy: 0.6429\n",
      "Epoch 24/105\n",
      "30/30 [==============================] - 23s 764ms/step - loss: 0.9221 - accuracy: 0.6048 - val_loss: 0.9177 - val_accuracy: 0.5867\n",
      "Epoch 25/105\n",
      "30/30 [==============================] - 23s 771ms/step - loss: 0.8766 - accuracy: 0.6262 - val_loss: 1.9654 - val_accuracy: 0.4311\n",
      "Epoch 26/105\n",
      "30/30 [==============================] - 25s 844ms/step - loss: 0.8353 - accuracy: 0.6464 - val_loss: 0.9106 - val_accuracy: 0.6480\n",
      "Epoch 27/105\n",
      "30/30 [==============================] - 25s 844ms/step - loss: 0.7821 - accuracy: 0.6917 - val_loss: 1.0868 - val_accuracy: 0.6276\n",
      "Epoch 28/105\n",
      "30/30 [==============================] - 29s 977ms/step - loss: 0.8043 - accuracy: 0.6798 - val_loss: 0.9787 - val_accuracy: 0.6148\n",
      "Epoch 29/105\n",
      "30/30 [==============================] - 26s 878ms/step - loss: 0.6918 - accuracy: 0.7405 - val_loss: 0.7616 - val_accuracy: 0.7321\n",
      "Epoch 30/105\n",
      "30/30 [==============================] - 25s 819ms/step - loss: 0.7092 - accuracy: 0.7333 - val_loss: 0.5415 - val_accuracy: 0.7985\n",
      "Epoch 31/105\n",
      "30/30 [==============================] - 27s 884ms/step - loss: 0.5556 - accuracy: 0.8006 - val_loss: 0.3651 - val_accuracy: 0.8495\n",
      "Epoch 32/105\n",
      "30/30 [==============================] - 28s 927ms/step - loss: 0.5058 - accuracy: 0.8202 - val_loss: 0.4501 - val_accuracy: 0.8520\n",
      "Epoch 33/105\n",
      "30/30 [==============================] - 31s 1s/step - loss: 0.4544 - accuracy: 0.8280 - val_loss: 0.5202 - val_accuracy: 0.8061\n",
      "Epoch 34/105\n",
      "30/30 [==============================] - 26s 883ms/step - loss: 0.4645 - accuracy: 0.8226 - val_loss: 0.2407 - val_accuracy: 0.9235\n",
      "Epoch 35/105\n",
      "30/30 [==============================] - 26s 883ms/step - loss: 0.4347 - accuracy: 0.8470 - val_loss: 0.2032 - val_accuracy: 0.9235\n",
      "Epoch 36/105\n",
      "30/30 [==============================] - 27s 891ms/step - loss: 0.4181 - accuracy: 0.8500 - val_loss: 0.2252 - val_accuracy: 0.9235\n",
      "Epoch 37/105\n",
      "30/30 [==============================] - 26s 872ms/step - loss: 0.4065 - accuracy: 0.8458 - val_loss: 0.1969 - val_accuracy: 0.9311\n",
      "Epoch 38/105\n",
      "30/30 [==============================] - 27s 908ms/step - loss: 0.3532 - accuracy: 0.8780 - val_loss: 0.3434 - val_accuracy: 0.8673\n",
      "Epoch 39/105\n",
      "30/30 [==============================] - 26s 878ms/step - loss: 0.3307 - accuracy: 0.8833 - val_loss: 0.1613 - val_accuracy: 0.9439\n",
      "Epoch 40/105\n",
      "30/30 [==============================] - 27s 915ms/step - loss: 0.3686 - accuracy: 0.8774 - val_loss: 0.4221 - val_accuracy: 0.8571\n",
      "Epoch 41/105\n",
      "30/30 [==============================] - 28s 949ms/step - loss: 0.3373 - accuracy: 0.8821 - val_loss: 0.2568 - val_accuracy: 0.9107\n",
      "Epoch 42/105\n",
      "30/30 [==============================] - 28s 936ms/step - loss: 0.3360 - accuracy: 0.8696 - val_loss: 0.2771 - val_accuracy: 0.9031\n",
      "Epoch 43/105\n",
      "30/30 [==============================] - 28s 919ms/step - loss: 0.3041 - accuracy: 0.8899 - val_loss: 0.2054 - val_accuracy: 0.9286\n",
      "Epoch 44/105\n",
      "30/30 [==============================] - 27s 886ms/step - loss: 0.2499 - accuracy: 0.9113 - val_loss: 0.6141 - val_accuracy: 0.8138\n",
      "Epoch 45/105\n",
      "30/30 [==============================] - 27s 908ms/step - loss: 0.2598 - accuracy: 0.9060 - val_loss: 0.3878 - val_accuracy: 0.8648\n",
      "Epoch 46/105\n",
      "30/30 [==============================] - 27s 909ms/step - loss: 0.2573 - accuracy: 0.9042 - val_loss: 0.3414 - val_accuracy: 0.8903\n",
      "Epoch 47/105\n",
      "30/30 [==============================] - 28s 934ms/step - loss: 0.2388 - accuracy: 0.9149 - val_loss: 0.1311 - val_accuracy: 0.9541\n",
      "Epoch 48/105\n",
      "30/30 [==============================] - 28s 930ms/step - loss: 0.2804 - accuracy: 0.9054 - val_loss: 0.5569 - val_accuracy: 0.8240\n",
      "Epoch 49/105\n",
      "30/30 [==============================] - 27s 905ms/step - loss: 0.2522 - accuracy: 0.9137 - val_loss: 0.3291 - val_accuracy: 0.9158\n",
      "Epoch 50/105\n",
      "30/30 [==============================] - 28s 922ms/step - loss: 0.2660 - accuracy: 0.9179 - val_loss: 0.1489 - val_accuracy: 0.9362\n",
      "Epoch 51/105\n",
      "30/30 [==============================] - 29s 969ms/step - loss: 0.2626 - accuracy: 0.9149 - val_loss: 0.0655 - val_accuracy: 0.9770\n",
      "Epoch 52/105\n",
      "30/30 [==============================] - 29s 976ms/step - loss: 0.2559 - accuracy: 0.9065 - val_loss: 1.5484 - val_accuracy: 0.6429\n",
      "Epoch 53/105\n",
      "30/30 [==============================] - 28s 945ms/step - loss: 0.2330 - accuracy: 0.9190 - val_loss: 0.2062 - val_accuracy: 0.9388\n",
      "Epoch 54/105\n",
      "30/30 [==============================] - 29s 980ms/step - loss: 0.2311 - accuracy: 0.9256 - val_loss: 0.1307 - val_accuracy: 0.9617\n",
      "Epoch 55/105\n",
      "30/30 [==============================] - 29s 954ms/step - loss: 0.2018 - accuracy: 0.9280 - val_loss: 0.1784 - val_accuracy: 0.9388\n",
      "Epoch 56/105\n",
      "30/30 [==============================] - 27s 898ms/step - loss: 0.2373 - accuracy: 0.9167 - val_loss: 0.2067 - val_accuracy: 0.9209\n",
      "Epoch 57/105\n",
      "30/30 [==============================] - 27s 916ms/step - loss: 0.2124 - accuracy: 0.9286 - val_loss: 0.1228 - val_accuracy: 0.9617\n",
      "Epoch 58/105\n",
      "30/30 [==============================] - 28s 949ms/step - loss: 0.1912 - accuracy: 0.9292 - val_loss: 0.0980 - val_accuracy: 0.9643\n",
      "Epoch 59/105\n",
      "30/30 [==============================] - 27s 910ms/step - loss: 0.2187 - accuracy: 0.9232 - val_loss: 0.0952 - val_accuracy: 0.9617\n",
      "Epoch 60/105\n",
      "30/30 [==============================] - 27s 912ms/step - loss: 0.2204 - accuracy: 0.9226 - val_loss: 0.0859 - val_accuracy: 0.9847\n",
      "Epoch 61/105\n",
      "30/30 [==============================] - 30s 983ms/step - loss: 0.2077 - accuracy: 0.9304 - val_loss: 0.2065 - val_accuracy: 0.9362\n",
      "Epoch 62/105\n",
      "30/30 [==============================] - 29s 965ms/step - loss: 0.1696 - accuracy: 0.9387 - val_loss: 0.2506 - val_accuracy: 0.9184\n",
      "Epoch 63/105\n",
      "30/30 [==============================] - 28s 927ms/step - loss: 0.1946 - accuracy: 0.9280 - val_loss: 0.0722 - val_accuracy: 0.9796\n",
      "Epoch 64/105\n",
      "30/30 [==============================] - 28s 946ms/step - loss: 0.1780 - accuracy: 0.9381 - val_loss: 0.0928 - val_accuracy: 0.9643\n",
      "Epoch 65/105\n",
      "30/30 [==============================] - 29s 955ms/step - loss: 0.1586 - accuracy: 0.9423 - val_loss: 0.4353 - val_accuracy: 0.8776\n",
      "Epoch 66/105\n",
      "30/30 [==============================] - 29s 976ms/step - loss: 0.1678 - accuracy: 0.9363 - val_loss: 0.0647 - val_accuracy: 0.9770\n",
      "Epoch 67/105\n",
      "30/30 [==============================] - 31s 1s/step - loss: 0.1576 - accuracy: 0.9458 - val_loss: 0.0729 - val_accuracy: 0.9770\n",
      "Epoch 68/105\n",
      "30/30 [==============================] - 28s 948ms/step - loss: 0.1567 - accuracy: 0.9440 - val_loss: 0.0916 - val_accuracy: 0.9668\n",
      "Epoch 69/105\n",
      "30/30 [==============================] - 33s 1s/step - loss: 0.1592 - accuracy: 0.9458 - val_loss: 0.0688 - val_accuracy: 0.9821\n",
      "Epoch 70/105\n",
      "30/30 [==============================] - 29s 954ms/step - loss: 0.1660 - accuracy: 0.9423 - val_loss: 0.0551 - val_accuracy: 0.9821\n",
      "Epoch 71/105\n",
      "30/30 [==============================] - 31s 1s/step - loss: 0.1731 - accuracy: 0.9440 - val_loss: 0.0596 - val_accuracy: 0.9745\n",
      "Epoch 72/105\n",
      "30/30 [==============================] - 31s 1s/step - loss: 0.1774 - accuracy: 0.9351 - val_loss: 0.0521 - val_accuracy: 0.9821\n",
      "Epoch 73/105\n",
      "30/30 [==============================] - 28s 931ms/step - loss: 0.1647 - accuracy: 0.9393 - val_loss: 0.2180 - val_accuracy: 0.9286\n",
      "Epoch 74/105\n",
      "30/30 [==============================] - 28s 949ms/step - loss: 0.1581 - accuracy: 0.9464 - val_loss: 0.0284 - val_accuracy: 0.9923\n",
      "Epoch 75/105\n",
      "30/30 [==============================] - 28s 941ms/step - loss: 0.1496 - accuracy: 0.9446 - val_loss: 0.0525 - val_accuracy: 0.9821\n",
      "Epoch 76/105\n",
      "30/30 [==============================] - 28s 945ms/step - loss: 0.1534 - accuracy: 0.9536 - val_loss: 0.0534 - val_accuracy: 0.9847\n",
      "Epoch 77/105\n",
      "30/30 [==============================] - 29s 972ms/step - loss: 0.1350 - accuracy: 0.9542 - val_loss: 0.0529 - val_accuracy: 0.9821\n",
      "Epoch 78/105\n",
      "30/30 [==============================] - 29s 969ms/step - loss: 0.1434 - accuracy: 0.9488 - val_loss: 0.0783 - val_accuracy: 0.9643\n",
      "Epoch 79/105\n",
      "30/30 [==============================] - 29s 972ms/step - loss: 0.1343 - accuracy: 0.9488 - val_loss: 0.1159 - val_accuracy: 0.9541\n",
      "Epoch 80/105\n",
      "30/30 [==============================] - 27s 907ms/step - loss: 0.1432 - accuracy: 0.9530 - val_loss: 0.0635 - val_accuracy: 0.9796\n",
      "Epoch 81/105\n",
      "30/30 [==============================] - 27s 911ms/step - loss: 0.1543 - accuracy: 0.9542 - val_loss: 0.0491 - val_accuracy: 0.9821\n",
      "Epoch 82/105\n",
      "30/30 [==============================] - 29s 964ms/step - loss: 0.1819 - accuracy: 0.9375 - val_loss: 0.0772 - val_accuracy: 0.9719\n",
      "Epoch 83/105\n",
      "30/30 [==============================] - 28s 947ms/step - loss: 0.1429 - accuracy: 0.9536 - val_loss: 0.1828 - val_accuracy: 0.9260\n",
      "Epoch 84/105\n",
      "30/30 [==============================] - 29s 954ms/step - loss: 0.1251 - accuracy: 0.9560 - val_loss: 0.0341 - val_accuracy: 0.9923\n",
      "Epoch 85/105\n",
      "30/30 [==============================] - 28s 935ms/step - loss: 0.1120 - accuracy: 0.9589 - val_loss: 0.1120 - val_accuracy: 0.9668\n",
      "Epoch 86/105\n",
      "30/30 [==============================] - 30s 1s/step - loss: 0.1533 - accuracy: 0.9452 - val_loss: 0.0479 - val_accuracy: 0.9821\n",
      "Epoch 87/105\n",
      "30/30 [==============================] - 29s 960ms/step - loss: 0.1288 - accuracy: 0.9560 - val_loss: 0.7144 - val_accuracy: 0.8291\n",
      "Epoch 88/105\n",
      "30/30 [==============================] - 28s 926ms/step - loss: 0.1494 - accuracy: 0.9494 - val_loss: 0.0521 - val_accuracy: 0.9796\n",
      "Epoch 89/105\n",
      "30/30 [==============================] - 30s 1s/step - loss: 0.1351 - accuracy: 0.9560 - val_loss: 0.0950 - val_accuracy: 0.9745\n",
      "Epoch 90/105\n",
      "30/30 [==============================] - 31s 1s/step - loss: 0.1434 - accuracy: 0.9488 - val_loss: 0.0459 - val_accuracy: 0.9898\n",
      "Epoch 91/105\n",
      "30/30 [==============================] - 29s 952ms/step - loss: 0.1480 - accuracy: 0.9476 - val_loss: 0.0447 - val_accuracy: 0.9796\n",
      "Epoch 92/105\n",
      "30/30 [==============================] - 30s 1s/step - loss: 0.1111 - accuracy: 0.9601 - val_loss: 0.0931 - val_accuracy: 0.9668\n",
      "Epoch 93/105\n",
      "30/30 [==============================] - 29s 960ms/step - loss: 0.1068 - accuracy: 0.9649 - val_loss: 0.1164 - val_accuracy: 0.9592\n",
      "Epoch 94/105\n",
      "30/30 [==============================] - 28s 937ms/step - loss: 0.1231 - accuracy: 0.9583 - val_loss: 0.1637 - val_accuracy: 0.9413\n",
      "Epoch 95/105\n",
      "30/30 [==============================] - 28s 944ms/step - loss: 0.1194 - accuracy: 0.9554 - val_loss: 0.0689 - val_accuracy: 0.9770\n",
      "Epoch 96/105\n",
      "30/30 [==============================] - 28s 921ms/step - loss: 0.1035 - accuracy: 0.9661 - val_loss: 0.0363 - val_accuracy: 0.9898\n",
      "Epoch 97/105\n",
      "30/30 [==============================] - 28s 931ms/step - loss: 0.1558 - accuracy: 0.9476 - val_loss: 0.0271 - val_accuracy: 0.9949\n",
      "Epoch 98/105\n",
      "30/30 [==============================] - 28s 928ms/step - loss: 0.1186 - accuracy: 0.9595 - val_loss: 0.0397 - val_accuracy: 0.9898\n",
      "Epoch 99/105\n",
      "30/30 [==============================] - 29s 962ms/step - loss: 0.1243 - accuracy: 0.9583 - val_loss: 0.1535 - val_accuracy: 0.9362\n",
      "Epoch 100/105\n",
      "30/30 [==============================] - 28s 942ms/step - loss: 0.1259 - accuracy: 0.9595 - val_loss: 0.0178 - val_accuracy: 0.9974\n",
      "Epoch 101/105\n",
      "30/30 [==============================] - 28s 937ms/step - loss: 0.1180 - accuracy: 0.9577 - val_loss: 0.0529 - val_accuracy: 0.9668\n",
      "Epoch 102/105\n",
      "30/30 [==============================] - 28s 934ms/step - loss: 0.1094 - accuracy: 0.9601 - val_loss: 0.0344 - val_accuracy: 0.9898\n",
      "Epoch 103/105\n",
      "30/30 [==============================] - 29s 953ms/step - loss: 0.1008 - accuracy: 0.9583 - val_loss: 0.0458 - val_accuracy: 0.9872\n",
      "Epoch 104/105\n",
      "30/30 [==============================] - 30s 1s/step - loss: 0.1258 - accuracy: 0.9583 - val_loss: 0.0864 - val_accuracy: 0.9694\n",
      "Epoch 105/105\n",
      "30/30 [==============================] - 30s 988ms/step - loss: 0.1036 - accuracy: 0.9607 - val_loss: 0.0504 - val_accuracy: 0.9821\n"
     ]
    }
   ],
   "source": [
    "# Callback untuk menyimpan model setiap epoch\n",
    "model_save_callback = callbacks.ModelCheckpoint('models/model_{val_accuracy:.3f}_{accuracy:.3f}.h5', save_best_only=False, save_weights_only=False, monitor='val_accuracy')\n",
    "\n",
    "# Inisialisasi metrik\n",
    "model.compile(optimizer='adam',\n",
    "              loss='sparse_categorical_crossentropy',\n",
    "              metrics=['accuracy'])\n",
    "\n",
    "# Pelatihan!\n",
    "history = model.fit( train_generator,\n",
    "                     steps_per_epoch=train_generator.n // train_generator.batch_size,\n",
    "                     epochs=105, \n",
    "                     validation_data=validation_generator,\n",
    "                     validation_steps= validation_generator.n // validation_generator.batch_size,\n",
    "                     callbacks=[\n",
    "                         model_save_callback\n",
    "                     ]\n",
    "                   ) "
   ]
  },
  {
   "cell_type": "markdown",
   "metadata": {},
   "source": [
    "## Visualisasi metrik"
   ]
  },
  {
   "cell_type": "code",
   "execution_count": 8,
   "metadata": {},
   "outputs": [
    {
     "data": {
      "image/png": "[encoded data removed]",
      "text/plain": [
       "<Figure size 432x288 with 1 Axes>"
      ]
     },
     "metadata": {
      "needs_background": "light"
     },
     "output_type": "display_data"
    },
    {
     "data": {
      "image/png": "[encoded data removed]",
      "text/plain": [
       "<Figure size 432x288 with 1 Axes>"
      ]
     },
     "metadata": {
      "needs_background": "light"
     },
     "output_type": "display_data"
    }
   ],
   "source": [
    "# Menyimpan history pelatihan\n",
    "pd.DataFrame(history.history).to_csv('history.csv')\n",
    "\n",
    "# Memvisualisasikan metrik akurasi selama pelatihan \n",
    "plt.plot(history.history['accuracy'], label='training accuracy')\n",
    "plt.plot(history.history['val_accuracy'], label='validation accuracy')\n",
    "plt.xlabel('Epoch')\n",
    "plt.ylabel('Accuracy')\n",
    "plt.ylim([0., 1]) \n",
    "plt.legend(loc='right')\n",
    "plt.savefig('train_val_acc_augmentation.png')\n",
    "plt.show()\n",
    "\n",
    "# Memvisualisasikan metrik loss selama pelatihan\n",
    "plt.plot(history.history['loss'], label='training loss')\n",
    "plt.plot(history.history['val_loss'], label='validation loss')\n",
    "plt.xlabel('Epoch')\n",
    "plt.ylabel('Loss')\n",
    "plt.ylim([0., 3.5])\n",
    "plt.legend(loc='right')\n",
    "plt.savefig('train_val_loss_augmentation.png')\n",
    "plt.show()"
   ]
  },
  {
   "cell_type": "markdown",
   "metadata": {},
   "source": [
    "# Evaluasi Model "
   ]
  },
  {
   "cell_type": "code",
   "execution_count": 14,
   "metadata": {},
   "outputs": [],
   "source": [
    "# load model terbaik\n",
    "loaded_model = models.load_model('models/fix model/model_0.997_0.960.h5')"
   ]
  },
  {
   "cell_type": "code",
   "execution_count": 15,
   "metadata": {},
   "outputs": [],
   "source": [
    "# Membuat fungsi load image untuk pengujian\n",
    "def load_image(img_path):\n",
    "  # Praproses data uji\n",
    "  img = load_img(img_path, target_size=(150,150,3))\n",
    "  img_tensor = img_to_array(img)\n",
    "  img_tensor = np.expand_dims(img_tensor, axis=0)\n",
    "  img_tensor /= 255.0\n",
    "\n",
    "  return img_tensor"
   ]
  },
  {
   "cell_type": "code",
   "execution_count": 16,
   "metadata": {},
   "outputs": [
    {
     "name": "stdout",
     "output_type": "stream",
     "text": [
      "Found 420 images belonging to 30 classes.\n"
     ]
    }
   ],
   "source": [
    "# Membuat generator seperti sebelum pelatihan untuk data uji\n",
    "PATH = 'dataset'\n",
    "VAL_DATA = 'test_mixed'\n",
    "VALIDATION_DIR = os.path.join(PATH, VAL_DATA)\n",
    "\n",
    "BATCH_SIZE = 56\n",
    "IMG_SIZE = (150, 150)\n",
    "\n",
    "\n",
    "validation_datagen = ImageDataGenerator( rescale = 1./255 )\n",
    "\n",
    "validation_generator = validation_datagen.flow_from_directory(VALIDATION_DIR,\n",
    "                                                    batch_size=BATCH_SIZE,\n",
    "                                                    class_mode='sparse',\n",
    "                                                    target_size=IMG_SIZE,\n",
    "                                                    color_mode='rgb'\n",
    "                                                    )"
   ]
  },
  {
   "cell_type": "markdown",
   "metadata": {},
   "source": [
    "## Pengujian manual"
   ]
  },
  {
   "cell_type": "code",
   "execution_count": 18,
   "metadata": {},
   "outputs": [
    {
     "name": "stdout",
     "output_type": "stream",
     "text": [
      "Nama huruf: zain\n",
      "29\n"
     ]
    },
    {
     "data": {
      "image/png": "[encoded data removed]",
      "text/plain": [
       "<Figure size 432x288 with 1 Axes>"
      ]
     },
     "metadata": {
      "needs_background": "light"
     },
     "output_type": "display_data"
    },
    {
     "name": "stdout",
     "output_type": "stream",
     "text": [
      "[[1.25821942e-09 1.48384822e-06 1.37622543e-02 2.67843752e-05\n",
      "  3.08317283e-08 4.29337084e-01 3.59648210e-03 1.07947315e-04\n",
      "  1.29658829e-05 7.06441091e-13 4.50002015e-11 2.21015029e-07\n",
      "  2.74225020e-09 2.00477007e-05 2.00302693e-05 1.41777946e-05\n",
      "  3.63189029e-05 5.74427138e-12 1.98281784e+01 6.72757393e-04\n",
      "  4.36675835e+00 3.94934649e-12 1.99970982e-05 2.62784981e-03\n",
      "  1.78437389e-03 9.72288561e-08 1.84670462e-05 5.18784848e-10\n",
      "  1.22091892e-08 7.53529968e+01]]\n"
     ]
    }
   ],
   "source": [
    "# load data uji\n",
    "huruf = input(\"Nama huruf: \")\n",
    "img_path = 'dataset/' + VAL_DATA + '/' + huruf + '/'+ huruf + '_5.jpg'\n",
    "new_image = load_image(img_path)\n",
    "\n",
    "# prediksi\n",
    "pred = loaded_model.predict(new_image)\n",
    "pred *= 100\n",
    "print(np.argmax(pred))\n",
    "\n",
    "img = load_img(img_path, target_size=(160, 160))\n",
    "plt.imshow(img)\n",
    "plt.title(\"Prediksi: {}\".format(class_names[np.argmax(pred)]))\n",
    "plt.xlabel(\"Aktual: \" + img_path.split(\"/\")[2])\n",
    "plt.tight_layout()\n",
    "plt.show()\n",
    "print(pred)"
   ]
  },
  {
   "cell_type": "code",
   "execution_count": 11,
   "metadata": {},
   "outputs": [
    {
     "name": "stdout",
     "output_type": "stream",
     "text": [
      "Akurasi pada data tes: 99.76190476190476%\n"
     ]
    }
   ],
   "source": [
    "# Menghitung akurasi secara manual\n",
    "total = 0\n",
    "betul = 0\n",
    "for folder in class_names:\n",
    "    for count, filename in enumerate(os.listdir(os.path.join(VALIDATION_DIR, folder))):\n",
    "        img_path = 'dataset/' + VAL_DATA + '/' + folder + '/'+ filename\n",
    "        new_image = load_image(img_path)\n",
    "        pred = loaded_model.predict(new_image)\n",
    "        if class_names[np.argmax(pred)] == folder:\n",
    "            betul += 1\n",
    "        total += 1\n",
    "\n",
    "print(\"Akurasi pada data tes: {}%\".format((betul/total)*100))"
   ]
  },
  {
   "cell_type": "markdown",
   "metadata": {},
   "source": [
    "## Confusion Matrix"
   ]
  },
  {
   "cell_type": "code",
   "execution_count": 12,
   "metadata": {},
   "outputs": [],
   "source": [
    "# Confusion Matrix dan Classification Report\n",
    "Y_pred = []\n",
    "\n",
    "for folder in class_names:\n",
    "    for labels, filename in enumerate(os.listdir(os.path.join(VALIDATION_DIR, folder))):\n",
    "        img_path = 'dataset/' + VAL_DATA + '/' + folder + '/'+ filename\n",
    "        new_image = load_image(img_path)\n",
    "        pred = loaded_model.predict(new_image)\n",
    "        Y_pred.append(np.argmax(pred, axis=1))"
   ]
  },
  {
   "cell_type": "code",
   "execution_count": 13,
   "metadata": {},
   "outputs": [
    {
     "name": "stdout",
     "output_type": "stream",
     "text": [
      "\n",
      "=======================Confusion Matrix=======================\n",
      "\n",
      "[[14  0  0  0  0  0  0  0  0  0  0  0  0  0  0  0  0  0  0  0  0  0  0  0\n",
      "   0  0  0  0  0  0]\n",
      " [ 0 14  0  0  0  0  0  0  0  0  0  0  0  0  0  0  0  0  0  0  0  0  0  0\n",
      "   0  0  0  0  0  0]\n",
      " [ 0  0 14  0  0  0  0  0  0  0  0  0  0  0  0  0  0  0  0  0  0  0  0  0\n",
      "   0  0  0  0  0  0]\n",
      " [ 0  0  0 14  0  0  0  0  0  0  0  0  0  0  0  0  0  0  0  0  0  0  0  0\n",
      "   0  0  0  0  0  0]\n",
      " [ 0  0  0  0 14  0  0  0  0  0  0  0  0  0  0  0  0  0  0  0  0  0  0  0\n",
      "   0  0  0  0  0  0]\n",
      " [ 0  0  0  0  0 14  0  0  0  0  0  0  0  0  0  0  0  0  0  0  0  0  0  0\n",
      "   0  0  0  0  0  0]\n",
      " [ 0  0  0  0  0  0 14  0  0  0  0  0  0  0  0  0  0  0  0  0  0  0  0  0\n",
      "   0  0  0  0  0  0]\n",
      " [ 0  0  0  0  0  0  0 14  0  0  0  0  0  0  0  0  0  0  0  0  0  0  0  0\n",
      "   0  0  0  0  0  0]\n",
      " [ 0  0  0  0  0  0  0  0 14  0  0  0  0  0  0  0  0  0  0  0  0  0  0  0\n",
      "   0  0  0  0  0  0]\n",
      " [ 0  0  0  0  0  0  0  0  0 14  0  0  0  0  0  0  0  0  0  0  0  0  0  0\n",
      "   0  0  0  0  0  0]\n",
      " [ 0  0  0  0  0  0  0  0  0  0 14  0  0  0  0  0  0  0  0  0  0  0  0  0\n",
      "   0  0  0  0  0  0]\n",
      " [ 0  0  0  0  0  0  0  0  0  0  0 14  0  0  0  0  0  0  0  0  0  0  0  0\n",
      "   0  0  0  0  0  0]\n",
      " [ 0  0  0  0  0  0  0  0  0  0  0  0 14  0  0  0  0  0  0  0  0  0  0  0\n",
      "   0  0  0  0  0  0]\n",
      " [ 0  0  0  0  0  0  0  0  0  0  0  0  0 14  0  0  0  0  0  0  0  0  0  0\n",
      "   0  0  0  0  0  0]\n",
      " [ 0  0  0  0  0  0  0  0  0  0  0  0  0  0 14  0  0  0  0  0  0  0  0  0\n",
      "   0  0  0  0  0  0]\n",
      " [ 0  0  0  0  0  0  0  0  0  0  0  0  0  0  0 14  0  0  0  0  0  0  0  0\n",
      "   0  0  0  0  0  0]\n",
      " [ 0  0  0  0  0  0  0  0  0  0  0  0  0  0  0  0 14  0  0  0  0  0  0  0\n",
      "   0  0  0  0  0  0]\n",
      " [ 0  0  0  0  0  0  0  0  0  0  0  0  0  0  0  0  0 14  0  0  0  0  0  0\n",
      "   0  0  0  0  0  0]\n",
      " [ 0  0  0  0  0  0  0  0  0  0  0  0  0  0  0  0  0  0 14  0  0  0  0  0\n",
      "   0  0  0  0  0  0]\n",
      " [ 0  0  0  0  0  0  0  0  0  0  0  0  0  0  0  0  0  0  0 14  0  0  0  0\n",
      "   0  0  0  0  0  0]\n",
      " [ 0  0  0  0  0  0  0  0  0  0  0  0  0  0  0  0  0  0  0  0 14  0  0  0\n",
      "   0  0  0  0  0  0]\n",
      " [ 0  0  0  0  0  0  0  0  0  0  0  0  0  0  0  0  0  0  0  0  0 14  0  0\n",
      "   0  0  0  0  0  0]\n",
      " [ 0  0  0  0  0  0  0  0  0  0  0  0  0  0  0  0  0  0  0  0  0  0 14  0\n",
      "   0  0  0  0  0  0]\n",
      " [ 0  0  0  0  0  0  0  0  0  0  0  0  0  0  0  0  0  0  0  0  0  0  0 14\n",
      "   0  0  0  0  0  0]\n",
      " [ 0  0  0  0  0  0  0  0  0  0  0  0  0  0  0  0  0  0  0  0  0  0  0  0\n",
      "  14  0  0  0  0  0]\n",
      " [ 0  0  0  0  0  0  0  0  0  0  0  0  0  0  0  0  0  0  0  0  0  0  0  0\n",
      "   0 14  0  0  0  0]\n",
      " [ 0  0  0  0  0  0  0  0  0  0  0  0  0  0  0  0  0  0  0  0  0  0  0  0\n",
      "   0  0 14  0  0  0]\n",
      " [ 0  0  0  0  0  0  0  0  0  0  0  0  0  0  0  0  0  0  0  0  0  0  0  0\n",
      "   0  0  0 14  0  0]\n",
      " [ 0  0  0  0  0  0  0  0  0  0  0  0  0  0  0  0  0  0  0  0  0  0  0  0\n",
      "   0  0  0  0 14  0]\n",
      " [ 0  0  0  0  0  0  0  0  0  0  0  0  0  0  0  0  0  0  0  0  1  0  0  0\n",
      "   0  0  0  0  0 13]]\n",
      "\n",
      "\n",
      "=================Classification Report=================\n",
      "\n",
      "              precision    recall  f1-score   support\n",
      "\n",
      "         ain       1.00      1.00      1.00        14\n",
      "        alif       1.00      1.00      1.00        14\n",
      "          ba       1.00      1.00      1.00        14\n",
      "         dal       1.00      1.00      1.00        14\n",
      "        dhod       1.00      1.00      1.00        14\n",
      "        dzal       1.00      1.00      1.00        14\n",
      "        dzho       1.00      1.00      1.00        14\n",
      "          fa       1.00      1.00      1.00        14\n",
      "       ghoin       1.00      1.00      1.00        14\n",
      "          ha       1.00      1.00      1.00        14\n",
      "         ha'       1.00      1.00      1.00        14\n",
      "      hamzah       1.00      1.00      1.00        14\n",
      "         jim       1.00      1.00      1.00        14\n",
      "         kaf       1.00      1.00      1.00        14\n",
      "         kho       1.00      1.00      1.00        14\n",
      "         lam       1.00      1.00      1.00        14\n",
      "     lamalif       1.00      1.00      1.00        14\n",
      "         mim       1.00      1.00      1.00        14\n",
      "         nun       1.00      1.00      1.00        14\n",
      "         qof       1.00      1.00      1.00        14\n",
      "          ro       0.93      1.00      0.97        14\n",
      "        shod       1.00      1.00      1.00        14\n",
      "         sin       1.00      1.00      1.00        14\n",
      "        syin       1.00      1.00      1.00        14\n",
      "          ta       1.00      1.00      1.00        14\n",
      "         tho       1.00      1.00      1.00        14\n",
      "         tsa       1.00      1.00      1.00        14\n",
      "        wawu       1.00      1.00      1.00        14\n",
      "          ya       1.00      1.00      1.00        14\n",
      "        zain       1.00      0.93      0.96        14\n",
      "\n",
      "    accuracy                           1.00       420\n",
      "   macro avg       1.00      1.00      1.00       420\n",
      "weighted avg       1.00      1.00      1.00       420\n",
      "\n"
     ]
    }
   ],
   "source": [
    "# Menampilkan hasil\n",
    "print('\\n=======================Confusion Matrix=======================\\n')\n",
    "print(confusion_matrix(validation_generator.classes, Y_pred))\n",
    "print('\\n\\n=================Classification Report=================\\n')\n",
    "target_names = class_names\n",
    "print(classification_report(validation_generator.classes, Y_pred, target_names=target_names))"
   ]
  },
  {
   "cell_type": "code",
   "execution_count": null,
   "metadata": {},
   "outputs": [],
   "source": [
    "# Membuat json untuk deployment\n",
    "son = loaded_model.to_json()\n",
    "with open(\"model_json\", \"w\") as json_file:\n",
    "  json_file.write(model_json)"
   ]
  }
 ],
 "metadata": {
  "kernelspec": {
   "display_name": "gpu",
   "language": "python",
   "name": "gpu"
  },
  "language_info": {
   "codemirror_mode": {
    "name": "ipython",
    "version": 3
   },
   "file_extension": ".py",
   "mimetype": "text/x-python",
   "name": "python",
   "nbconvert_exporter": "python",
   "pygments_lexer": "ipython3",
   "version": "3.7.7"
  }
 },
 "nbformat": 4,
 "nbformat_minor": 4
}
